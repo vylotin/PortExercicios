{
 "cells": [
  {
   "cell_type": "code",
   "execution_count": 2,
   "id": "1af74469",
   "metadata": {},
   "outputs": [],
   "source": [
    "#Importação de bibliotecas\n",
    "\n",
    "import pandas as pd\n",
    "import numpy as np\n",
    "import matplotlib.pyplot as plt "
   ]
  },
  {
   "cell_type": "code",
   "execution_count": 3,
   "id": "7a1dad99",
   "metadata": {},
   "outputs": [
    {
     "name": "stderr",
     "output_type": "stream",
     "text": [
      "<>:3: SyntaxWarning: invalid escape sequence '\\e'\n",
      "<>:3: SyntaxWarning: invalid escape sequence '\\e'\n",
      "C:\\Users\\pvrrr\\AppData\\Local\\Temp\\ipykernel_9384\\2938790932.py:3: SyntaxWarning: invalid escape sequence '\\e'\n",
      "  dt2 = pd.read_csv('D:\\ead_etl\\dataset2.csv', sep=',')\n"
     ]
    },
    {
     "data": {
      "text/html": [
       "<div>\n",
       "<style scoped>\n",
       "    .dataframe tbody tr th:only-of-type {\n",
       "        vertical-align: middle;\n",
       "    }\n",
       "\n",
       "    .dataframe tbody tr th {\n",
       "        vertical-align: top;\n",
       "    }\n",
       "\n",
       "    .dataframe thead th {\n",
       "        text-align: right;\n",
       "    }\n",
       "</style>\n",
       "<table border=\"1\" class=\"dataframe\">\n",
       "  <thead>\n",
       "    <tr style=\"text-align: right;\">\n",
       "      <th></th>\n",
       "      <th>id_paciente</th>\n",
       "      <th>data_nascimento</th>\n",
       "      <th>data_internacao</th>\n",
       "      <th>data_infeccao</th>\n",
       "      <th>tipo_infeccao</th>\n",
       "      <th>data_coleta_cultura</th>\n",
       "      <th>microorganismo</th>\n",
       "      <th>perfil_resistencia</th>\n",
       "      <th>setor_internacao</th>\n",
       "    </tr>\n",
       "  </thead>\n",
       "  <tbody>\n",
       "    <tr>\n",
       "      <th>0</th>\n",
       "      <td>P001</td>\n",
       "      <td>1958-07-15</td>\n",
       "      <td>2025-07-20</td>\n",
       "      <td>2025-08-05</td>\n",
       "      <td>PAV</td>\n",
       "      <td>2025-08-06</td>\n",
       "      <td>Acinetobacter baumannii</td>\n",
       "      <td>Multirresistente</td>\n",
       "      <td>UTI Adulto</td>\n",
       "    </tr>\n",
       "    <tr>\n",
       "      <th>1</th>\n",
       "      <td>P002</td>\n",
       "      <td>1999-02-20</td>\n",
       "      <td>2025-07-25</td>\n",
       "      <td>2025-08-07</td>\n",
       "      <td>ITU-SVD</td>\n",
       "      <td>2025-08-07</td>\n",
       "      <td>Klebsiella pneumoniae</td>\n",
       "      <td>KPC</td>\n",
       "      <td>UTI Adulto</td>\n",
       "    </tr>\n",
       "    <tr>\n",
       "      <th>2</th>\n",
       "      <td>P003</td>\n",
       "      <td>1965-01-30</td>\n",
       "      <td>2025-08-01</td>\n",
       "      <td>2025-08-08</td>\n",
       "      <td>IPCSL</td>\n",
       "      <td>2025-08-08</td>\n",
       "      <td>Staphylococcus aureus</td>\n",
       "      <td>MRSA</td>\n",
       "      <td>UTI Adulto</td>\n",
       "    </tr>\n",
       "    <tr>\n",
       "      <th>3</th>\n",
       "      <td>P004</td>\n",
       "      <td>1943-11-12</td>\n",
       "      <td>2025-07-15</td>\n",
       "      <td>2025-08-10</td>\n",
       "      <td>PAV</td>\n",
       "      <td>2025-08-11</td>\n",
       "      <td>Pseudomonas aeruginosa</td>\n",
       "      <td>Multirresistente</td>\n",
       "      <td>UTI Adulto</td>\n",
       "    </tr>\n",
       "    <tr>\n",
       "      <th>4</th>\n",
       "      <td>P005</td>\n",
       "      <td>1988-09-03</td>\n",
       "      <td>2025-08-10</td>\n",
       "      <td>2025-08-18</td>\n",
       "      <td>ITU-SVD</td>\n",
       "      <td>2025-08-18</td>\n",
       "      <td>Escherichia coli</td>\n",
       "      <td>Sensível</td>\n",
       "      <td>Clínica Médica</td>\n",
       "    </tr>\n",
       "  </tbody>\n",
       "</table>\n",
       "</div>"
      ],
      "text/plain": [
       "  id_paciente data_nascimento data_internacao data_infeccao tipo_infeccao  \\\n",
       "0        P001      1958-07-15      2025-07-20    2025-08-05           PAV   \n",
       "1        P002      1999-02-20      2025-07-25    2025-08-07       ITU-SVD   \n",
       "2        P003      1965-01-30      2025-08-01    2025-08-08         IPCSL   \n",
       "3        P004      1943-11-12      2025-07-15    2025-08-10           PAV   \n",
       "4        P005      1988-09-03      2025-08-10    2025-08-18       ITU-SVD   \n",
       "\n",
       "  data_coleta_cultura           microorganismo perfil_resistencia  \\\n",
       "0          2025-08-06  Acinetobacter baumannii   Multirresistente   \n",
       "1          2025-08-07    Klebsiella pneumoniae                KPC   \n",
       "2          2025-08-08    Staphylococcus aureus               MRSA   \n",
       "3          2025-08-11   Pseudomonas aeruginosa   Multirresistente   \n",
       "4          2025-08-18         Escherichia coli           Sensível   \n",
       "\n",
       "  setor_internacao  \n",
       "0       UTI Adulto  \n",
       "1       UTI Adulto  \n",
       "2       UTI Adulto  \n",
       "3       UTI Adulto  \n",
       "4   Clínica Médica  "
      ]
     },
     "execution_count": 3,
     "metadata": {},
     "output_type": "execute_result"
    }
   ],
   "source": [
    "#Importação de dados\n",
    "\n",
    "dt2 = pd.read_csv('D:\\ead_etl\\dataset2.csv', sep=',')\n",
    "dt2.head()"
   ]
  },
  {
   "cell_type": "code",
   "execution_count": 4,
   "id": "73d8435c",
   "metadata": {},
   "outputs": [
    {
     "data": {
      "text/html": [
       "<div>\n",
       "<style scoped>\n",
       "    .dataframe tbody tr th:only-of-type {\n",
       "        vertical-align: middle;\n",
       "    }\n",
       "\n",
       "    .dataframe tbody tr th {\n",
       "        vertical-align: top;\n",
       "    }\n",
       "\n",
       "    .dataframe thead th {\n",
       "        text-align: right;\n",
       "    }\n",
       "</style>\n",
       "<table border=\"1\" class=\"dataframe\">\n",
       "  <thead>\n",
       "    <tr style=\"text-align: right;\">\n",
       "      <th></th>\n",
       "      <th>id_paciente</th>\n",
       "      <th>data_nascimento</th>\n",
       "      <th>data_internacao</th>\n",
       "      <th>data_infeccao</th>\n",
       "      <th>tipo_infeccao</th>\n",
       "      <th>data_coleta_cultura</th>\n",
       "      <th>microorganismo</th>\n",
       "      <th>perfil_resistencia</th>\n",
       "      <th>setor_internacao</th>\n",
       "      <th>idade_paciente</th>\n",
       "    </tr>\n",
       "  </thead>\n",
       "  <tbody>\n",
       "    <tr>\n",
       "      <th>0</th>\n",
       "      <td>P001</td>\n",
       "      <td>1958-07-15</td>\n",
       "      <td>2025-07-20</td>\n",
       "      <td>2025-08-05</td>\n",
       "      <td>PAV</td>\n",
       "      <td>2025-08-06</td>\n",
       "      <td>Acinetobacter baumannii</td>\n",
       "      <td>Multirresistente</td>\n",
       "      <td>UTI Adulto</td>\n",
       "      <td>67</td>\n",
       "    </tr>\n",
       "    <tr>\n",
       "      <th>1</th>\n",
       "      <td>P002</td>\n",
       "      <td>1999-02-20</td>\n",
       "      <td>2025-07-25</td>\n",
       "      <td>2025-08-07</td>\n",
       "      <td>ITU-SVD</td>\n",
       "      <td>2025-08-07</td>\n",
       "      <td>Klebsiella pneumoniae</td>\n",
       "      <td>KPC</td>\n",
       "      <td>UTI Adulto</td>\n",
       "      <td>26</td>\n",
       "    </tr>\n",
       "    <tr>\n",
       "      <th>2</th>\n",
       "      <td>P003</td>\n",
       "      <td>1965-01-30</td>\n",
       "      <td>2025-08-01</td>\n",
       "      <td>2025-08-08</td>\n",
       "      <td>IPCSL</td>\n",
       "      <td>2025-08-08</td>\n",
       "      <td>Staphylococcus aureus</td>\n",
       "      <td>MRSA</td>\n",
       "      <td>UTI Adulto</td>\n",
       "      <td>60</td>\n",
       "    </tr>\n",
       "    <tr>\n",
       "      <th>3</th>\n",
       "      <td>P004</td>\n",
       "      <td>1943-11-12</td>\n",
       "      <td>2025-07-15</td>\n",
       "      <td>2025-08-10</td>\n",
       "      <td>PAV</td>\n",
       "      <td>2025-08-11</td>\n",
       "      <td>Pseudomonas aeruginosa</td>\n",
       "      <td>Multirresistente</td>\n",
       "      <td>UTI Adulto</td>\n",
       "      <td>81</td>\n",
       "    </tr>\n",
       "    <tr>\n",
       "      <th>4</th>\n",
       "      <td>P005</td>\n",
       "      <td>1988-09-03</td>\n",
       "      <td>2025-08-10</td>\n",
       "      <td>2025-08-18</td>\n",
       "      <td>ITU-SVD</td>\n",
       "      <td>2025-08-18</td>\n",
       "      <td>Escherichia coli</td>\n",
       "      <td>Sensível</td>\n",
       "      <td>Clínica Médica</td>\n",
       "      <td>36</td>\n",
       "    </tr>\n",
       "  </tbody>\n",
       "</table>\n",
       "</div>"
      ],
      "text/plain": [
       "  id_paciente data_nascimento data_internacao data_infeccao tipo_infeccao  \\\n",
       "0        P001      1958-07-15      2025-07-20    2025-08-05           PAV   \n",
       "1        P002      1999-02-20      2025-07-25    2025-08-07       ITU-SVD   \n",
       "2        P003      1965-01-30      2025-08-01    2025-08-08         IPCSL   \n",
       "3        P004      1943-11-12      2025-07-15    2025-08-10           PAV   \n",
       "4        P005      1988-09-03      2025-08-10    2025-08-18       ITU-SVD   \n",
       "\n",
       "  data_coleta_cultura           microorganismo perfil_resistencia  \\\n",
       "0          2025-08-06  Acinetobacter baumannii   Multirresistente   \n",
       "1          2025-08-07    Klebsiella pneumoniae                KPC   \n",
       "2          2025-08-08    Staphylococcus aureus               MRSA   \n",
       "3          2025-08-11   Pseudomonas aeruginosa   Multirresistente   \n",
       "4          2025-08-18         Escherichia coli           Sensível   \n",
       "\n",
       "  setor_internacao  idade_paciente  \n",
       "0       UTI Adulto              67  \n",
       "1       UTI Adulto              26  \n",
       "2       UTI Adulto              60  \n",
       "3       UTI Adulto              81  \n",
       "4   Clínica Médica              36  "
      ]
     },
     "execution_count": 4,
     "metadata": {},
     "output_type": "execute_result"
    }
   ],
   "source": [
    "#IDADE PACIENTE NO DIA DA INFECÇÃO CALCULO\n",
    "dt2['data_nascimento'] = pd.to_datetime(dt2['data_nascimento'], format='%Y-%m-%d')\n",
    "dt2['data_infeccao'] = pd.to_datetime(dt2['data_infeccao'], format='%Y-%m-%d')\n",
    "dt2['idade_paciente'] = (dt2['data_infeccao'] - dt2['data_nascimento']).dt.days // 365\n",
    "dt2.head()"
   ]
  },
  {
   "cell_type": "code",
   "execution_count": 5,
   "id": "8a6c8ef7",
   "metadata": {},
   "outputs": [
    {
     "data": {
      "text/plain": [
       "np.float64(54.0)"
      ]
     },
     "execution_count": 5,
     "metadata": {},
     "output_type": "execute_result"
    }
   ],
   "source": [
    "#media idade dos pacietes\n",
    "dt2['idade_paciente'].mean()"
   ]
  },
  {
   "cell_type": "code",
   "execution_count": 6,
   "id": "06429a69",
   "metadata": {},
   "outputs": [
    {
     "data": {
      "text/plain": [
       "np.float64(58.0)"
      ]
     },
     "execution_count": 6,
     "metadata": {},
     "output_type": "execute_result"
    }
   ],
   "source": [
    "#mediana de idade dos pacietes\n",
    "dt2['idade_paciente'].median()"
   ]
  },
  {
   "cell_type": "code",
   "execution_count": 7,
   "id": "14cfb4bd",
   "metadata": {},
   "outputs": [
    {
     "data": {
      "text/html": [
       "<div>\n",
       "<style scoped>\n",
       "    .dataframe tbody tr th:only-of-type {\n",
       "        vertical-align: middle;\n",
       "    }\n",
       "\n",
       "    .dataframe tbody tr th {\n",
       "        vertical-align: top;\n",
       "    }\n",
       "\n",
       "    .dataframe thead th {\n",
       "        text-align: right;\n",
       "    }\n",
       "</style>\n",
       "<table border=\"1\" class=\"dataframe\">\n",
       "  <thead>\n",
       "    <tr style=\"text-align: right;\">\n",
       "      <th></th>\n",
       "      <th>id_paciente</th>\n",
       "      <th>data_nascimento</th>\n",
       "      <th>data_internacao</th>\n",
       "      <th>data_infeccao</th>\n",
       "      <th>tipo_infeccao</th>\n",
       "      <th>data_coleta_cultura</th>\n",
       "      <th>microorganismo</th>\n",
       "      <th>perfil_resistencia</th>\n",
       "      <th>setor_internacao</th>\n",
       "      <th>idade_paciente</th>\n",
       "      <th>dias_coleta_resultado</th>\n",
       "    </tr>\n",
       "  </thead>\n",
       "  <tbody>\n",
       "    <tr>\n",
       "      <th>0</th>\n",
       "      <td>P001</td>\n",
       "      <td>1958-07-15</td>\n",
       "      <td>2025-07-20</td>\n",
       "      <td>2025-08-05</td>\n",
       "      <td>PAV</td>\n",
       "      <td>2025-08-06</td>\n",
       "      <td>Acinetobacter baumannii</td>\n",
       "      <td>Multirresistente</td>\n",
       "      <td>UTI Adulto</td>\n",
       "      <td>67</td>\n",
       "      <td>1</td>\n",
       "    </tr>\n",
       "    <tr>\n",
       "      <th>1</th>\n",
       "      <td>P002</td>\n",
       "      <td>1999-02-20</td>\n",
       "      <td>2025-07-25</td>\n",
       "      <td>2025-08-07</td>\n",
       "      <td>ITU-SVD</td>\n",
       "      <td>2025-08-07</td>\n",
       "      <td>Klebsiella pneumoniae</td>\n",
       "      <td>KPC</td>\n",
       "      <td>UTI Adulto</td>\n",
       "      <td>26</td>\n",
       "      <td>0</td>\n",
       "    </tr>\n",
       "    <tr>\n",
       "      <th>2</th>\n",
       "      <td>P003</td>\n",
       "      <td>1965-01-30</td>\n",
       "      <td>2025-08-01</td>\n",
       "      <td>2025-08-08</td>\n",
       "      <td>IPCSL</td>\n",
       "      <td>2025-08-08</td>\n",
       "      <td>Staphylococcus aureus</td>\n",
       "      <td>MRSA</td>\n",
       "      <td>UTI Adulto</td>\n",
       "      <td>60</td>\n",
       "      <td>0</td>\n",
       "    </tr>\n",
       "    <tr>\n",
       "      <th>3</th>\n",
       "      <td>P004</td>\n",
       "      <td>1943-11-12</td>\n",
       "      <td>2025-07-15</td>\n",
       "      <td>2025-08-10</td>\n",
       "      <td>PAV</td>\n",
       "      <td>2025-08-11</td>\n",
       "      <td>Pseudomonas aeruginosa</td>\n",
       "      <td>Multirresistente</td>\n",
       "      <td>UTI Adulto</td>\n",
       "      <td>81</td>\n",
       "      <td>1</td>\n",
       "    </tr>\n",
       "    <tr>\n",
       "      <th>4</th>\n",
       "      <td>P005</td>\n",
       "      <td>1988-09-03</td>\n",
       "      <td>2025-08-10</td>\n",
       "      <td>2025-08-18</td>\n",
       "      <td>ITU-SVD</td>\n",
       "      <td>2025-08-18</td>\n",
       "      <td>Escherichia coli</td>\n",
       "      <td>Sensível</td>\n",
       "      <td>Clínica Médica</td>\n",
       "      <td>36</td>\n",
       "      <td>0</td>\n",
       "    </tr>\n",
       "  </tbody>\n",
       "</table>\n",
       "</div>"
      ],
      "text/plain": [
       "  id_paciente data_nascimento data_internacao data_infeccao tipo_infeccao  \\\n",
       "0        P001      1958-07-15      2025-07-20    2025-08-05           PAV   \n",
       "1        P002      1999-02-20      2025-07-25    2025-08-07       ITU-SVD   \n",
       "2        P003      1965-01-30      2025-08-01    2025-08-08         IPCSL   \n",
       "3        P004      1943-11-12      2025-07-15    2025-08-10           PAV   \n",
       "4        P005      1988-09-03      2025-08-10    2025-08-18       ITU-SVD   \n",
       "\n",
       "  data_coleta_cultura           microorganismo perfil_resistencia  \\\n",
       "0          2025-08-06  Acinetobacter baumannii   Multirresistente   \n",
       "1          2025-08-07    Klebsiella pneumoniae                KPC   \n",
       "2          2025-08-08    Staphylococcus aureus               MRSA   \n",
       "3          2025-08-11   Pseudomonas aeruginosa   Multirresistente   \n",
       "4          2025-08-18         Escherichia coli           Sensível   \n",
       "\n",
       "  setor_internacao  idade_paciente  dias_coleta_resultado  \n",
       "0       UTI Adulto              67                      1  \n",
       "1       UTI Adulto              26                      0  \n",
       "2       UTI Adulto              60                      0  \n",
       "3       UTI Adulto              81                      1  \n",
       "4   Clínica Médica              36                      0  "
      ]
     },
     "execution_count": 7,
     "metadata": {},
     "output_type": "execute_result"
    }
   ],
   "source": [
    "#dias da coleta do exame até o resultado\n",
    "dt2['data_infeccao'] = pd.to_datetime(dt2['data_infeccao'], format='%Y-%m-%d')\n",
    "dt2['data_coleta_cultura'] = pd.to_datetime(dt2['data_coleta_cultura'], format='%Y-%m-%d')\n",
    "dt2['dias_coleta_resultado'] = (dt2['data_coleta_cultura'] - dt2['data_infeccao']).dt.days\n",
    "dt2.head()"
   ]
  },
  {
   "cell_type": "code",
   "execution_count": 8,
   "id": "c00e4f2b",
   "metadata": {},
   "outputs": [
    {
     "data": {
      "text/plain": [
       "np.float64(0.32)"
      ]
     },
     "execution_count": 8,
     "metadata": {},
     "output_type": "execute_result"
    }
   ],
   "source": [
    "#tempo médio de coleta\n",
    "dt2['dias_coleta_resultado'].mean()"
   ]
  },
  {
   "cell_type": "code",
   "execution_count": 9,
   "id": "17a50d0a",
   "metadata": {},
   "outputs": [
    {
     "data": {
      "text/html": [
       "<div>\n",
       "<style scoped>\n",
       "    .dataframe tbody tr th:only-of-type {\n",
       "        vertical-align: middle;\n",
       "    }\n",
       "\n",
       "    .dataframe tbody tr th {\n",
       "        vertical-align: top;\n",
       "    }\n",
       "\n",
       "    .dataframe thead th {\n",
       "        text-align: right;\n",
       "    }\n",
       "</style>\n",
       "<table border=\"1\" class=\"dataframe\">\n",
       "  <thead>\n",
       "    <tr style=\"text-align: right;\">\n",
       "      <th></th>\n",
       "      <th>id_paciente</th>\n",
       "      <th>data_nascimento</th>\n",
       "      <th>data_internacao</th>\n",
       "      <th>data_infeccao</th>\n",
       "      <th>tipo_infeccao</th>\n",
       "      <th>data_coleta_cultura</th>\n",
       "      <th>microorganismo</th>\n",
       "      <th>perfil_resistencia</th>\n",
       "      <th>setor_internacao</th>\n",
       "      <th>idade_paciente</th>\n",
       "      <th>dias_coleta_resultado</th>\n",
       "      <th>dias_ate_infeccao</th>\n",
       "    </tr>\n",
       "  </thead>\n",
       "  <tbody>\n",
       "    <tr>\n",
       "      <th>0</th>\n",
       "      <td>P001</td>\n",
       "      <td>1958-07-15</td>\n",
       "      <td>2025-07-20</td>\n",
       "      <td>2025-08-05</td>\n",
       "      <td>PAV</td>\n",
       "      <td>2025-08-06</td>\n",
       "      <td>Acinetobacter baumannii</td>\n",
       "      <td>Multirresistente</td>\n",
       "      <td>UTI Adulto</td>\n",
       "      <td>67</td>\n",
       "      <td>1</td>\n",
       "      <td>16</td>\n",
       "    </tr>\n",
       "    <tr>\n",
       "      <th>1</th>\n",
       "      <td>P002</td>\n",
       "      <td>1999-02-20</td>\n",
       "      <td>2025-07-25</td>\n",
       "      <td>2025-08-07</td>\n",
       "      <td>ITU-SVD</td>\n",
       "      <td>2025-08-07</td>\n",
       "      <td>Klebsiella pneumoniae</td>\n",
       "      <td>KPC</td>\n",
       "      <td>UTI Adulto</td>\n",
       "      <td>26</td>\n",
       "      <td>0</td>\n",
       "      <td>13</td>\n",
       "    </tr>\n",
       "    <tr>\n",
       "      <th>2</th>\n",
       "      <td>P003</td>\n",
       "      <td>1965-01-30</td>\n",
       "      <td>2025-08-01</td>\n",
       "      <td>2025-08-08</td>\n",
       "      <td>IPCSL</td>\n",
       "      <td>2025-08-08</td>\n",
       "      <td>Staphylococcus aureus</td>\n",
       "      <td>MRSA</td>\n",
       "      <td>UTI Adulto</td>\n",
       "      <td>60</td>\n",
       "      <td>0</td>\n",
       "      <td>7</td>\n",
       "    </tr>\n",
       "    <tr>\n",
       "      <th>3</th>\n",
       "      <td>P004</td>\n",
       "      <td>1943-11-12</td>\n",
       "      <td>2025-07-15</td>\n",
       "      <td>2025-08-10</td>\n",
       "      <td>PAV</td>\n",
       "      <td>2025-08-11</td>\n",
       "      <td>Pseudomonas aeruginosa</td>\n",
       "      <td>Multirresistente</td>\n",
       "      <td>UTI Adulto</td>\n",
       "      <td>81</td>\n",
       "      <td>1</td>\n",
       "      <td>26</td>\n",
       "    </tr>\n",
       "    <tr>\n",
       "      <th>4</th>\n",
       "      <td>P005</td>\n",
       "      <td>1988-09-03</td>\n",
       "      <td>2025-08-10</td>\n",
       "      <td>2025-08-18</td>\n",
       "      <td>ITU-SVD</td>\n",
       "      <td>2025-08-18</td>\n",
       "      <td>Escherichia coli</td>\n",
       "      <td>Sensível</td>\n",
       "      <td>Clínica Médica</td>\n",
       "      <td>36</td>\n",
       "      <td>0</td>\n",
       "      <td>8</td>\n",
       "    </tr>\n",
       "  </tbody>\n",
       "</table>\n",
       "</div>"
      ],
      "text/plain": [
       "  id_paciente data_nascimento data_internacao data_infeccao tipo_infeccao  \\\n",
       "0        P001      1958-07-15      2025-07-20    2025-08-05           PAV   \n",
       "1        P002      1999-02-20      2025-07-25    2025-08-07       ITU-SVD   \n",
       "2        P003      1965-01-30      2025-08-01    2025-08-08         IPCSL   \n",
       "3        P004      1943-11-12      2025-07-15    2025-08-10           PAV   \n",
       "4        P005      1988-09-03      2025-08-10    2025-08-18       ITU-SVD   \n",
       "\n",
       "  data_coleta_cultura           microorganismo perfil_resistencia  \\\n",
       "0          2025-08-06  Acinetobacter baumannii   Multirresistente   \n",
       "1          2025-08-07    Klebsiella pneumoniae                KPC   \n",
       "2          2025-08-08    Staphylococcus aureus               MRSA   \n",
       "3          2025-08-11   Pseudomonas aeruginosa   Multirresistente   \n",
       "4          2025-08-18         Escherichia coli           Sensível   \n",
       "\n",
       "  setor_internacao  idade_paciente  dias_coleta_resultado  dias_ate_infeccao  \n",
       "0       UTI Adulto              67                      1                 16  \n",
       "1       UTI Adulto              26                      0                 13  \n",
       "2       UTI Adulto              60                      0                  7  \n",
       "3       UTI Adulto              81                      1                 26  \n",
       "4   Clínica Médica              36                      0                  8  "
      ]
     },
     "execution_count": 9,
     "metadata": {},
     "output_type": "execute_result"
    }
   ],
   "source": [
    "#criação de coluna dias até a infecção\n",
    "dt2['data_internacao'] = pd.to_datetime(dt2['data_internacao'], format='%Y-%m-%d')  \n",
    "dt2['data_infeccao'] = pd.to_datetime(dt2['data_infeccao'], format='%Y-%m-%d')\n",
    "dt2['dias_ate_infeccao'] = (dt2['data_infeccao'] - dt2['data_internacao']).dt.days\n",
    "dt2.head()"
   ]
  },
  {
   "cell_type": "code",
   "execution_count": 10,
   "id": "15d9ac1e",
   "metadata": {},
   "outputs": [
    {
     "data": {
      "text/plain": [
       "np.float64(13.76)"
      ]
     },
     "execution_count": 10,
     "metadata": {},
     "output_type": "execute_result"
    }
   ],
   "source": [
    "#média dias ate a infecção\n",
    "dt2['dias_ate_infeccao'].mean()"
   ]
  },
  {
   "cell_type": "code",
   "execution_count": 11,
   "id": "d9b388d9",
   "metadata": {},
   "outputs": [
    {
     "data": {
      "text/plain": [
       "microorganismo\n",
       "Klebsiella pneumoniae         8\n",
       "Staphylococcus aureus         4\n",
       "Acinetobacter baumannii       3\n",
       "Pseudomonas aeruginosa        3\n",
       "Escherichia coli              2\n",
       "Enterococcus faecalis         2\n",
       "Staphylococcus epidermidis    1\n",
       "Proteus mirabilis             1\n",
       "Serratia marcescens           1\n",
       "Name: count, dtype: int64"
      ]
     },
     "execution_count": 11,
     "metadata": {},
     "output_type": "execute_result"
    }
   ],
   "source": [
    "#frequencia de microorganismos\n",
    "dt2['microorganismo'].value_counts()"
   ]
  },
  {
   "cell_type": "code",
   "execution_count": 12,
   "id": "7e75feca",
   "metadata": {},
   "outputs": [
    {
     "data": {
      "text/plain": [
       "perfil_resistencia\n",
       "KPC                 8\n",
       "Multirresistente    6\n",
       "Sensível            6\n",
       "MRSA                4\n",
       "VRE                 1\n",
       "Name: count, dtype: int64"
      ]
     },
     "execution_count": 12,
     "metadata": {},
     "output_type": "execute_result"
    }
   ],
   "source": [
    "#perfil de resistência comum\n",
    "dt2['perfil_resistencia'].value_counts()"
   ]
  },
  {
   "cell_type": "code",
   "execution_count": 13,
   "id": "8e41025a",
   "metadata": {},
   "outputs": [
    {
     "data": {
      "image/png": "[encoded data removed]",
      "text/plain": [
       "<Figure size 1000x600 with 1 Axes>"
      ]
     },
     "metadata": {},
     "output_type": "display_data"
    }
   ],
   "source": [
    "#grafico de barras microorganismos\n",
    "plt.figure(figsize=(10, 6))\n",
    "dt2['microorganismo'].value_counts().plot(kind='bar', color='yellow')\n",
    "plt.xlabel('Microorganismo')\n",
    "plt.ylabel('Frequência')\n",
    "plt.title('Frequência de Microorganismos')\n",
    "plt.show()"
   ]
  },
  {
   "cell_type": "code",
   "execution_count": 14,
   "id": "37b2816f",
   "metadata": {},
   "outputs": [
    {
     "data": {
      "text/plain": [
       "tipo_infeccao\n",
       "PAV        10\n",
       "ITU-SVD     9\n",
       "IPCSL       6\n",
       "Name: count, dtype: int64"
      ]
     },
     "execution_count": 14,
     "metadata": {},
     "output_type": "execute_result"
    }
   ],
   "source": [
    "dt2['tipo_infeccao'].value_counts()"
   ]
  },
  {
   "cell_type": "code",
   "execution_count": 15,
   "id": "e639520a",
   "metadata": {},
   "outputs": [
    {
     "data": {
      "image/png": "[encoded data removed]",
      "text/plain": [
       "<Figure size 640x480 with 1 Axes>"
      ]
     },
     "metadata": {},
     "output_type": "display_data"
    }
   ],
   "source": [
    "plt.Figure(figsize=(10, 10))\n",
    "dt2['tipo_infeccao'].value_counts().plot(kind='pie', color='green')\n",
    "plt.xlabel('Tipo de Infecção')  \n",
    "plt.ylabel('Frequência')\n",
    "plt.title('Frequência de Tipos de Infecção')\n",
    "plt.show()"
   ]
  },
  {
   "cell_type": "code",
   "execution_count": 16,
   "id": "ab83babd",
   "metadata": {},
   "outputs": [
    {
     "data": {
      "text/plain": [
       "setor_internacao\n",
       "UTI Adulto           17\n",
       "Clínica Médica        4\n",
       "Clínica Cirúrgica     3\n",
       "UTI Pediátrica        1\n",
       "Name: count, dtype: int64"
      ]
     },
     "execution_count": 16,
     "metadata": {},
     "output_type": "execute_result"
    }
   ],
   "source": [
    "dt2['setor_internacao'].value_counts()"
   ]
  },
  {
   "cell_type": "code",
   "execution_count": 17,
   "id": "e6109da4",
   "metadata": {},
   "outputs": [
    {
     "data": {
      "text/plain": [
       "microorganismo\n",
       "Klebsiella pneumoniae      7\n",
       "Acinetobacter baumannii    3\n",
       "Staphylococcus aureus      3\n",
       "Pseudomonas aeruginosa     3\n",
       "Enterococcus faecalis      1\n",
       "Name: count, dtype: int64"
      ]
     },
     "execution_count": 17,
     "metadata": {},
     "output_type": "execute_result"
    }
   ],
   "source": [
    "dt2[dt2['setor_internacao'] == 'UTI Adulto']['microorganismo'].value_counts()"
   ]
  },
  {
   "cell_type": "code",
   "execution_count": 18,
   "id": "957bb581",
   "metadata": {},
   "outputs": [
    {
     "data": {
      "text/plain": [
       "<Figure size 1600x1000 with 0 Axes>"
      ]
     },
     "metadata": {},
     "output_type": "display_data"
    },
    {
     "data": {
      "image/png": "[encoded data removed]",
      "text/plain": [
       "<Figure size 640x480 with 1 Axes>"
      ]
     },
     "metadata": {},
     "output_type": "display_data"
    }
   ],
   "source": [
    "plt.figure(figsize=(16, 10))\n",
    "dt2.groupby(['microorganismo', 'perfil_resistencia']).size().unstack(fill_value=0).plot(kind='bar', color=['purple', 'orange', 'green', 'blue'])\n",
    "plt.xlabel('Microorganismo')\n",
    "plt.ylabel('Contagem por Perfil de Resistência')\n",
    "plt.title('Perfil de Resistência por Microorganismo')\n",
    "plt.legend(title='Perfil de Resistência')\n",
    "plt.tight_layout()\n",
    "plt.show()"
   ]
  },
  {
   "cell_type": "code",
   "execution_count": 19,
   "id": "c7867d7e",
   "metadata": {},
   "outputs": [
    {
     "data": {
      "image/png": "[encoded data removed]",
      "text/plain": [
       "<Figure size 1200x600 with 1 Axes>"
      ]
     },
     "metadata": {},
     "output_type": "display_data"
    }
   ],
   "source": [
    "#agrupar infecções por mes\n",
    "dt2['mes_infeccao'] = dt2['data_infeccao'].dt.to_period('M')\n",
    "dt2.head()\n",
    "infecoes_por_mes = dt2['mes_infeccao'].value_counts().sort_index()\n",
    "infecoes_por_mes.plot(kind='line', marker='o', figsize=(12, 6), color='blue')\n",
    "plt.xlabel('Mês da Infecção')           \n",
    "plt.ylabel('Número de Infecções')\n",
    "plt.title('Número de Infecções por Mês')\n",
    "plt.show()  "
   ]
  },
  {
   "cell_type": "code",
   "execution_count": 20,
   "id": "c1e71ef5",
   "metadata": {},
   "outputs": [
    {
     "data": {
      "text/html": [
       "<div>\n",
       "<style scoped>\n",
       "    .dataframe tbody tr th:only-of-type {\n",
       "        vertical-align: middle;\n",
       "    }\n",
       "\n",
       "    .dataframe tbody tr th {\n",
       "        vertical-align: top;\n",
       "    }\n",
       "\n",
       "    .dataframe thead th {\n",
       "        text-align: right;\n",
       "    }\n",
       "</style>\n",
       "<table border=\"1\" class=\"dataframe\">\n",
       "  <thead>\n",
       "    <tr style=\"text-align: right;\">\n",
       "      <th></th>\n",
       "      <th>id_paciente</th>\n",
       "      <th>idade_paciente</th>\n",
       "      <th>grupo_idade</th>\n",
       "    </tr>\n",
       "  </thead>\n",
       "  <tbody>\n",
       "    <tr>\n",
       "      <th>0</th>\n",
       "      <td>P001</td>\n",
       "      <td>67</td>\n",
       "      <td>61-75</td>\n",
       "    </tr>\n",
       "    <tr>\n",
       "      <th>1</th>\n",
       "      <td>P002</td>\n",
       "      <td>26</td>\n",
       "      <td>19-30</td>\n",
       "    </tr>\n",
       "    <tr>\n",
       "      <th>2</th>\n",
       "      <td>P003</td>\n",
       "      <td>60</td>\n",
       "      <td>61-75</td>\n",
       "    </tr>\n",
       "    <tr>\n",
       "      <th>3</th>\n",
       "      <td>P004</td>\n",
       "      <td>81</td>\n",
       "      <td>76+</td>\n",
       "    </tr>\n",
       "    <tr>\n",
       "      <th>4</th>\n",
       "      <td>P005</td>\n",
       "      <td>36</td>\n",
       "      <td>31-45</td>\n",
       "    </tr>\n",
       "    <tr>\n",
       "      <th>5</th>\n",
       "      <td>P006</td>\n",
       "      <td>49</td>\n",
       "      <td>46-60</td>\n",
       "    </tr>\n",
       "    <tr>\n",
       "      <th>6</th>\n",
       "      <td>P007</td>\n",
       "      <td>65</td>\n",
       "      <td>61-75</td>\n",
       "    </tr>\n",
       "    <tr>\n",
       "      <th>7</th>\n",
       "      <td>P008</td>\n",
       "      <td>73</td>\n",
       "      <td>61-75</td>\n",
       "    </tr>\n",
       "    <tr>\n",
       "      <th>8</th>\n",
       "      <td>P009</td>\n",
       "      <td>33</td>\n",
       "      <td>31-45</td>\n",
       "    </tr>\n",
       "    <tr>\n",
       "      <th>9</th>\n",
       "      <td>P010</td>\n",
       "      <td>24</td>\n",
       "      <td>19-30</td>\n",
       "    </tr>\n",
       "    <tr>\n",
       "      <th>10</th>\n",
       "      <td>P011</td>\n",
       "      <td>76</td>\n",
       "      <td>76+</td>\n",
       "    </tr>\n",
       "    <tr>\n",
       "      <th>11</th>\n",
       "      <td>P012</td>\n",
       "      <td>58</td>\n",
       "      <td>46-60</td>\n",
       "    </tr>\n",
       "    <tr>\n",
       "      <th>12</th>\n",
       "      <td>P013</td>\n",
       "      <td>70</td>\n",
       "      <td>61-75</td>\n",
       "    </tr>\n",
       "    <tr>\n",
       "      <th>13</th>\n",
       "      <td>P014</td>\n",
       "      <td>44</td>\n",
       "      <td>31-45</td>\n",
       "    </tr>\n",
       "    <tr>\n",
       "      <th>14</th>\n",
       "      <td>P015</td>\n",
       "      <td>62</td>\n",
       "      <td>61-75</td>\n",
       "    </tr>\n",
       "    <tr>\n",
       "      <th>15</th>\n",
       "      <td>P016</td>\n",
       "      <td>30</td>\n",
       "      <td>31-45</td>\n",
       "    </tr>\n",
       "    <tr>\n",
       "      <th>16</th>\n",
       "      <td>P017</td>\n",
       "      <td>79</td>\n",
       "      <td>76+</td>\n",
       "    </tr>\n",
       "    <tr>\n",
       "      <th>17</th>\n",
       "      <td>P018</td>\n",
       "      <td>52</td>\n",
       "      <td>46-60</td>\n",
       "    </tr>\n",
       "    <tr>\n",
       "      <th>18</th>\n",
       "      <td>P019</td>\n",
       "      <td>20</td>\n",
       "      <td>19-30</td>\n",
       "    </tr>\n",
       "    <tr>\n",
       "      <th>19</th>\n",
       "      <td>P020</td>\n",
       "      <td>66</td>\n",
       "      <td>61-75</td>\n",
       "    </tr>\n",
       "    <tr>\n",
       "      <th>20</th>\n",
       "      <td>P021</td>\n",
       "      <td>56</td>\n",
       "      <td>46-60</td>\n",
       "    </tr>\n",
       "    <tr>\n",
       "      <th>21</th>\n",
       "      <td>P022</td>\n",
       "      <td>40</td>\n",
       "      <td>31-45</td>\n",
       "    </tr>\n",
       "    <tr>\n",
       "      <th>22</th>\n",
       "      <td>P023</td>\n",
       "      <td>72</td>\n",
       "      <td>61-75</td>\n",
       "    </tr>\n",
       "    <tr>\n",
       "      <th>23</th>\n",
       "      <td>P024</td>\n",
       "      <td>47</td>\n",
       "      <td>46-60</td>\n",
       "    </tr>\n",
       "    <tr>\n",
       "      <th>24</th>\n",
       "      <td>P025</td>\n",
       "      <td>64</td>\n",
       "      <td>61-75</td>\n",
       "    </tr>\n",
       "  </tbody>\n",
       "</table>\n",
       "</div>"
      ],
      "text/plain": [
       "   id_paciente  idade_paciente grupo_idade\n",
       "0         P001              67       61-75\n",
       "1         P002              26       19-30\n",
       "2         P003              60       61-75\n",
       "3         P004              81         76+\n",
       "4         P005              36       31-45\n",
       "5         P006              49       46-60\n",
       "6         P007              65       61-75\n",
       "7         P008              73       61-75\n",
       "8         P009              33       31-45\n",
       "9         P010              24       19-30\n",
       "10        P011              76         76+\n",
       "11        P012              58       46-60\n",
       "12        P013              70       61-75\n",
       "13        P014              44       31-45\n",
       "14        P015              62       61-75\n",
       "15        P016              30       31-45\n",
       "16        P017              79         76+\n",
       "17        P018              52       46-60\n",
       "18        P019              20       19-30\n",
       "19        P020              66       61-75\n",
       "20        P021              56       46-60\n",
       "21        P022              40       31-45\n",
       "22        P023              72       61-75\n",
       "23        P024              47       46-60\n",
       "24        P025              64       61-75"
      ]
     },
     "execution_count": 20,
     "metadata": {},
     "output_type": "execute_result"
    }
   ],
   "source": [
    "faixas = [0, 18, 30, 45, 60, 75, 100]\n",
    "labels = ['0-18', '19-30', '31-45', '46-60', '61-75', '76+']\n",
    "dt2['grupo_idade'] = pd.cut(dt2['idade_paciente'], bins=faixas, labels=labels, right=False)\n",
    "dt2[['id_paciente', 'idade_paciente', 'grupo_idade']]"
   ]
  },
  {
   "cell_type": "code",
   "execution_count": 21,
   "id": "d641d38d",
   "metadata": {},
   "outputs": [
    {
     "name": "stderr",
     "output_type": "stream",
     "text": [
      "C:\\Users\\pvrrr\\AppData\\Local\\Temp\\ipykernel_9384\\2107580663.py:3: FutureWarning: The default of observed=False is deprecated and will be changed to True in a future version of pandas. Pass observed=False to retain current behavior or observed=True to adopt the future default and silence this warning.\n",
      "  dt2.groupby('grupo_idade')['perfil_resistencia'].value_counts().unstack(fill_value=())\n"
     ]
    },
    {
     "data": {
      "text/html": [
       "<div>\n",
       "<style scoped>\n",
       "    .dataframe tbody tr th:only-of-type {\n",
       "        vertical-align: middle;\n",
       "    }\n",
       "\n",
       "    .dataframe tbody tr th {\n",
       "        vertical-align: top;\n",
       "    }\n",
       "\n",
       "    .dataframe thead th {\n",
       "        text-align: right;\n",
       "    }\n",
       "</style>\n",
       "<table border=\"1\" class=\"dataframe\">\n",
       "  <thead>\n",
       "    <tr style=\"text-align: right;\">\n",
       "      <th>perfil_resistencia</th>\n",
       "      <th>KPC</th>\n",
       "      <th>MRSA</th>\n",
       "      <th>Multirresistente</th>\n",
       "      <th>Sensível</th>\n",
       "      <th>VRE</th>\n",
       "    </tr>\n",
       "    <tr>\n",
       "      <th>grupo_idade</th>\n",
       "      <th></th>\n",
       "      <th></th>\n",
       "      <th></th>\n",
       "      <th></th>\n",
       "      <th></th>\n",
       "    </tr>\n",
       "  </thead>\n",
       "  <tbody>\n",
       "    <tr>\n",
       "      <th>0-18</th>\n",
       "      <td>0</td>\n",
       "      <td>0</td>\n",
       "      <td>0</td>\n",
       "      <td>0</td>\n",
       "      <td>0</td>\n",
       "    </tr>\n",
       "    <tr>\n",
       "      <th>19-30</th>\n",
       "      <td>1</td>\n",
       "      <td>1</td>\n",
       "      <td>0</td>\n",
       "      <td>1</td>\n",
       "      <td>0</td>\n",
       "    </tr>\n",
       "    <tr>\n",
       "      <th>31-45</th>\n",
       "      <td>2</td>\n",
       "      <td>0</td>\n",
       "      <td>1</td>\n",
       "      <td>2</td>\n",
       "      <td>0</td>\n",
       "    </tr>\n",
       "    <tr>\n",
       "      <th>46-60</th>\n",
       "      <td>3</td>\n",
       "      <td>0</td>\n",
       "      <td>2</td>\n",
       "      <td>0</td>\n",
       "      <td>0</td>\n",
       "    </tr>\n",
       "    <tr>\n",
       "      <th>61-75</th>\n",
       "      <td>1</td>\n",
       "      <td>2</td>\n",
       "      <td>2</td>\n",
       "      <td>3</td>\n",
       "      <td>1</td>\n",
       "    </tr>\n",
       "    <tr>\n",
       "      <th>76+</th>\n",
       "      <td>1</td>\n",
       "      <td>1</td>\n",
       "      <td>1</td>\n",
       "      <td>0</td>\n",
       "      <td>0</td>\n",
       "    </tr>\n",
       "  </tbody>\n",
       "</table>\n",
       "</div>"
      ],
      "text/plain": [
       "perfil_resistencia  KPC  MRSA  Multirresistente  Sensível  VRE\n",
       "grupo_idade                                                   \n",
       "0-18                  0     0                 0         0    0\n",
       "19-30                 1     1                 0         1    0\n",
       "31-45                 2     0                 1         2    0\n",
       "46-60                 3     0                 2         0    0\n",
       "61-75                 1     2                 2         3    1\n",
       "76+                   1     1                 1         0    0"
      ]
     },
     "execution_count": 21,
     "metadata": {},
     "output_type": "execute_result"
    }
   ],
   "source": [
    "#grupo de idade por perfil de resistência (inclui multirresistente)\n",
    "\n",
    "dt2.groupby('grupo_idade')['perfil_resistencia'].value_counts().unstack(fill_value=())"
   ]
  }
 ],
 "metadata": {
  "kernelspec": {
   "display_name": "Python 3",
   "language": "python",
   "name": "python3"
  },
  "language_info": {
   "codemirror_mode": {
    "name": "ipython",
    "version": 3
   },
   "file_extension": ".py",
   "mimetype": "text/x-python",
   "name": "python",
   "nbconvert_exporter": "python",
   "pygments_lexer": "ipython3",
   "version": "3.12.10"
  }
 },
 "nbformat": 4,
 "nbformat_minor": 5
}
