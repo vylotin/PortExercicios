{
 "cells": [
  {
   "cell_type": "code",
   "execution_count": 2,
   "id": "bdc41db2",
   "metadata": {},
   "outputs": [],
   "source": [
    "#Importação de bibliotecas\n",
    "import pandas as pd\n",
    "import numpy as np\n",
    "import matplotlib as plt"
   ]
  },
  {
   "cell_type": "code",
   "execution_count": 3,
   "id": "4a810bb1",
   "metadata": {},
   "outputs": [
    {
     "data": {
      "text/html": [
       "<div>\n",
       "<style scoped>\n",
       "    .dataframe tbody tr th:only-of-type {\n",
       "        vertical-align: middle;\n",
       "    }\n",
       "\n",
       "    .dataframe tbody tr th {\n",
       "        vertical-align: top;\n",
       "    }\n",
       "\n",
       "    .dataframe thead th {\n",
       "        text-align: right;\n",
       "    }\n",
       "</style>\n",
       "<table border=\"1\" class=\"dataframe\">\n",
       "  <thead>\n",
       "    <tr style=\"text-align: right;\">\n",
       "      <th></th>\n",
       "      <th>id_pedido</th>\n",
       "      <th>data_pedido</th>\n",
       "      <th>id_cliente</th>\n",
       "      <th>genero_livro</th>\n",
       "      <th>titulo_livro</th>\n",
       "      <th>autor</th>\n",
       "      <th>preco_unitario</th>\n",
       "      <th>quantidade</th>\n",
       "      <th>cidade_cliente</th>\n",
       "      <th>estado_cliente</th>\n",
       "    </tr>\n",
       "  </thead>\n",
       "  <tbody>\n",
       "    <tr>\n",
       "      <th>0</th>\n",
       "      <td>1001</td>\n",
       "      <td>2024-01-15</td>\n",
       "      <td>C879</td>\n",
       "      <td>Ficção Científica</td>\n",
       "      <td>Duna</td>\n",
       "      <td>Frank Herbert</td>\n",
       "      <td>55.9</td>\n",
       "      <td>2</td>\n",
       "      <td>São Paulo</td>\n",
       "      <td>SP</td>\n",
       "    </tr>\n",
       "    <tr>\n",
       "      <th>1</th>\n",
       "      <td>1002</td>\n",
       "      <td>2024-01-16</td>\n",
       "      <td>C123</td>\n",
       "      <td>Desenvolvimento Pessoal</td>\n",
       "      <td>O Poder do Hábito</td>\n",
       "      <td>Charles Duhigg</td>\n",
       "      <td>42.5</td>\n",
       "      <td>1</td>\n",
       "      <td>Rio de Janeiro</td>\n",
       "      <td>RJ</td>\n",
       "    </tr>\n",
       "    <tr>\n",
       "      <th>2</th>\n",
       "      <td>1003</td>\n",
       "      <td>2024-01-18</td>\n",
       "      <td>C543</td>\n",
       "      <td>Não-Ficção</td>\n",
       "      <td>Sapiens: Uma Breve História da Humanidade</td>\n",
       "      <td>Yuval Noah Harari</td>\n",
       "      <td>61.0</td>\n",
       "      <td>1</td>\n",
       "      <td>Belo Horizonte</td>\n",
       "      <td>MG</td>\n",
       "    </tr>\n",
       "    <tr>\n",
       "      <th>3</th>\n",
       "      <td>1004</td>\n",
       "      <td>2024-01-20</td>\n",
       "      <td>C879</td>\n",
       "      <td>Ficção Científica</td>\n",
       "      <td>O Guia do Mochileiro das Galáxias</td>\n",
       "      <td>Douglas Adams</td>\n",
       "      <td>38.0</td>\n",
       "      <td>3</td>\n",
       "      <td>São Paulo</td>\n",
       "      <td>SP</td>\n",
       "    </tr>\n",
       "    <tr>\n",
       "      <th>4</th>\n",
       "      <td>1005</td>\n",
       "      <td>2024-02-05</td>\n",
       "      <td>C321</td>\n",
       "      <td>Fantasia</td>\n",
       "      <td>O Senhor dos Anéis</td>\n",
       "      <td>J.R.R. Tolkien</td>\n",
       "      <td>75.0</td>\n",
       "      <td>1</td>\n",
       "      <td>Porto Alegre</td>\n",
       "      <td>RS</td>\n",
       "    </tr>\n",
       "  </tbody>\n",
       "</table>\n",
       "</div>"
      ],
      "text/plain": [
       "   id_pedido data_pedido id_cliente             genero_livro  \\\n",
       "0       1001  2024-01-15       C879        Ficção Científica   \n",
       "1       1002  2024-01-16       C123  Desenvolvimento Pessoal   \n",
       "2       1003  2024-01-18       C543               Não-Ficção   \n",
       "3       1004  2024-01-20       C879        Ficção Científica   \n",
       "4       1005  2024-02-05       C321                 Fantasia   \n",
       "\n",
       "                                titulo_livro              autor  \\\n",
       "0                                       Duna      Frank Herbert   \n",
       "1                          O Poder do Hábito     Charles Duhigg   \n",
       "2  Sapiens: Uma Breve História da Humanidade  Yuval Noah Harari   \n",
       "3          O Guia do Mochileiro das Galáxias      Douglas Adams   \n",
       "4                         O Senhor dos Anéis     J.R.R. Tolkien   \n",
       "\n",
       "   preco_unitario  quantidade  cidade_cliente estado_cliente  \n",
       "0            55.9           2       São Paulo             SP  \n",
       "1            42.5           1  Rio de Janeiro             RJ  \n",
       "2            61.0           1  Belo Horizonte             MG  \n",
       "3            38.0           3       São Paulo             SP  \n",
       "4            75.0           1    Porto Alegre             RS  "
      ]
     },
     "execution_count": 3,
     "metadata": {},
     "output_type": "execute_result"
    }
   ],
   "source": [
    "#Importação de dataset\n",
    "df = pd.read_csv('/ead_etl/dataset.csv', sep=',')\n",
    "df.head()"
   ]
  },
  {
   "cell_type": "code",
   "execution_count": 4,
   "id": "b63173ef",
   "metadata": {},
   "outputs": [
    {
     "data": {
      "text/html": [
       "<div>\n",
       "<style scoped>\n",
       "    .dataframe tbody tr th:only-of-type {\n",
       "        vertical-align: middle;\n",
       "    }\n",
       "\n",
       "    .dataframe tbody tr th {\n",
       "        vertical-align: top;\n",
       "    }\n",
       "\n",
       "    .dataframe thead th {\n",
       "        text-align: right;\n",
       "    }\n",
       "</style>\n",
       "<table border=\"1\" class=\"dataframe\">\n",
       "  <thead>\n",
       "    <tr style=\"text-align: right;\">\n",
       "      <th></th>\n",
       "      <th>id_pedido</th>\n",
       "      <th>data_pedido</th>\n",
       "      <th>id_cliente</th>\n",
       "      <th>genero_livro</th>\n",
       "      <th>titulo_livro</th>\n",
       "      <th>autor</th>\n",
       "      <th>preco_unitario</th>\n",
       "      <th>quantidade</th>\n",
       "      <th>cidade_cliente</th>\n",
       "      <th>estado_cliente</th>\n",
       "      <th>preco_total</th>\n",
       "    </tr>\n",
       "  </thead>\n",
       "  <tbody>\n",
       "    <tr>\n",
       "      <th>0</th>\n",
       "      <td>1001</td>\n",
       "      <td>2024-01-15</td>\n",
       "      <td>C879</td>\n",
       "      <td>Ficção Científica</td>\n",
       "      <td>Duna</td>\n",
       "      <td>Frank Herbert</td>\n",
       "      <td>55.9</td>\n",
       "      <td>2</td>\n",
       "      <td>São Paulo</td>\n",
       "      <td>SP</td>\n",
       "      <td>111.8</td>\n",
       "    </tr>\n",
       "    <tr>\n",
       "      <th>1</th>\n",
       "      <td>1002</td>\n",
       "      <td>2024-01-16</td>\n",
       "      <td>C123</td>\n",
       "      <td>Desenvolvimento Pessoal</td>\n",
       "      <td>O Poder do Hábito</td>\n",
       "      <td>Charles Duhigg</td>\n",
       "      <td>42.5</td>\n",
       "      <td>1</td>\n",
       "      <td>Rio de Janeiro</td>\n",
       "      <td>RJ</td>\n",
       "      <td>42.5</td>\n",
       "    </tr>\n",
       "    <tr>\n",
       "      <th>2</th>\n",
       "      <td>1003</td>\n",
       "      <td>2024-01-18</td>\n",
       "      <td>C543</td>\n",
       "      <td>Não-Ficção</td>\n",
       "      <td>Sapiens: Uma Breve História da Humanidade</td>\n",
       "      <td>Yuval Noah Harari</td>\n",
       "      <td>61.0</td>\n",
       "      <td>1</td>\n",
       "      <td>Belo Horizonte</td>\n",
       "      <td>MG</td>\n",
       "      <td>61.0</td>\n",
       "    </tr>\n",
       "    <tr>\n",
       "      <th>3</th>\n",
       "      <td>1004</td>\n",
       "      <td>2024-01-20</td>\n",
       "      <td>C879</td>\n",
       "      <td>Ficção Científica</td>\n",
       "      <td>O Guia do Mochileiro das Galáxias</td>\n",
       "      <td>Douglas Adams</td>\n",
       "      <td>38.0</td>\n",
       "      <td>3</td>\n",
       "      <td>São Paulo</td>\n",
       "      <td>SP</td>\n",
       "      <td>114.0</td>\n",
       "    </tr>\n",
       "    <tr>\n",
       "      <th>4</th>\n",
       "      <td>1005</td>\n",
       "      <td>2024-02-05</td>\n",
       "      <td>C321</td>\n",
       "      <td>Fantasia</td>\n",
       "      <td>O Senhor dos Anéis</td>\n",
       "      <td>J.R.R. Tolkien</td>\n",
       "      <td>75.0</td>\n",
       "      <td>1</td>\n",
       "      <td>Porto Alegre</td>\n",
       "      <td>RS</td>\n",
       "      <td>75.0</td>\n",
       "    </tr>\n",
       "  </tbody>\n",
       "</table>\n",
       "</div>"
      ],
      "text/plain": [
       "   id_pedido data_pedido id_cliente             genero_livro  \\\n",
       "0       1001  2024-01-15       C879        Ficção Científica   \n",
       "1       1002  2024-01-16       C123  Desenvolvimento Pessoal   \n",
       "2       1003  2024-01-18       C543               Não-Ficção   \n",
       "3       1004  2024-01-20       C879        Ficção Científica   \n",
       "4       1005  2024-02-05       C321                 Fantasia   \n",
       "\n",
       "                                titulo_livro              autor  \\\n",
       "0                                       Duna      Frank Herbert   \n",
       "1                          O Poder do Hábito     Charles Duhigg   \n",
       "2  Sapiens: Uma Breve História da Humanidade  Yuval Noah Harari   \n",
       "3          O Guia do Mochileiro das Galáxias      Douglas Adams   \n",
       "4                         O Senhor dos Anéis     J.R.R. Tolkien   \n",
       "\n",
       "   preco_unitario  quantidade  cidade_cliente estado_cliente  preco_total  \n",
       "0            55.9           2       São Paulo             SP        111.8  \n",
       "1            42.5           1  Rio de Janeiro             RJ         42.5  \n",
       "2            61.0           1  Belo Horizonte             MG         61.0  \n",
       "3            38.0           3       São Paulo             SP        114.0  \n",
       "4            75.0           1    Porto Alegre             RS         75.0  "
      ]
     },
     "execution_count": 4,
     "metadata": {},
     "output_type": "execute_result"
    }
   ],
   "source": [
    "#Criar coluna nova com soma de 'preco_unitario' multiplicando por 'quantidade'\n",
    "df['preco_total'] = df['preco_unitario'] * df['quantidade']\n",
    "df.head()\n"
   ]
  },
  {
   "cell_type": "markdown",
   "id": "79c87b40",
   "metadata": {},
   "source": [
    "#ANÁLISE GERAL DE VENDAS"
   ]
  },
  {
   "cell_type": "code",
   "execution_count": 9,
   "id": "3f722b73",
   "metadata": {},
   "outputs": [
    {
     "name": "stdout",
     "output_type": "stream",
     "text": [
      "O faturamento total foi de R$1759.70\n"
     ]
    }
   ],
   "source": [
    "#Primeira Questão: Faturamento total\n",
    "fat_total = df['preco_total'].sum()\n",
    "print(f'O faturamento total foi de R${fat_total:.2f}')"
   ]
  },
  {
   "cell_type": "code",
   "execution_count": null,
   "id": "607c9778",
   "metadata": {},
   "outputs": [
    {
     "name": "stdout",
     "output_type": "stream",
     "text": [
      "63.970000000000006\n"
     ]
    }
   ],
   "source": [
    "#Segunda Questão: Preço médio dos livros vendidos\n",
    "pc_medio = df['preco_unitario'].mean()\n",
    "print(pc_medio)"
   ]
  },
  {
   "cell_type": "markdown",
   "id": "82220962",
   "metadata": {},
   "source": [
    "#DESEMPENHO GERAL DE GENEROS"
   ]
  },
  {
   "cell_type": "code",
   "execution_count": null,
   "id": "eb773c69",
   "metadata": {},
   "outputs": [
    {
     "name": "stdout",
     "output_type": "stream",
     "text": [
      "genero_livro\n",
      "Ficção Científica          7\n",
      "Técnico                    7\n",
      "Fantasia                   5\n",
      "Não-Ficção                 5\n",
      "Desenvolvimento Pessoal    4\n",
      "Name: quantidade, dtype: int64\n"
     ]
    }
   ],
   "source": [
    "#Genêros mais vendidos\n",
    "gen_vendidos = df.groupby('genero_livro')['quantidade'].sum().sort_values(ascending=False)\n",
    "print(gen_vendidos)"
   ]
  },
  {
   "cell_type": "code",
   "execution_count": null,
   "id": "812baeb3",
   "metadata": {},
   "outputs": [
    {
     "name": "stdout",
     "output_type": "stream",
     "text": [
      "genero_livro\n",
      "Técnico                    685.1\n",
      "Ficção Científica          333.7\n",
      "Não-Ficção                 302.0\n",
      "Fantasia                   260.0\n",
      "Desenvolvimento Pessoal    178.9\n",
      "Name: preco_total, dtype: float64\n"
     ]
    }
   ],
   "source": [
    "#Receita por genero\n",
    "rec_genero = df.groupby('genero_livro')['preco_total'].sum().sort_values(ascending=False)\n",
    "print(rec_genero)"
   ]
  },
  {
   "cell_type": "code",
   "execution_count": null,
   "id": "a3e8272e",
   "metadata": {},
   "outputs": [
    {
     "data": {
      "text/plain": [
       "<Axes: title={'center': 'Receita por Gênero'}, xlabel='Genero do livo', ylabel='Receita em R$'>"
      ]
     },
     "execution_count": 72,
     "metadata": {},
     "output_type": "execute_result"
    },
    {
     "data": {
      "image/png": "[encoded data removed]",
      "text/plain": [
       "<Figure size 640x480 with 1 Axes>"
      ]
     },
     "metadata": {},
     "output_type": "display_data"
    }
   ],
   "source": [
    "#Grafico de barras para receita por genero\n",
    "rec_genero.plot(kind='bar', title='Receita por Gênero', xlabel='Genero do livo', ylabel='Receita em R$')\n"
   ]
  },
  {
   "cell_type": "code",
   "execution_count": null,
   "id": "50d40c38",
   "metadata": {},
   "outputs": [
    {
     "name": "stdout",
     "output_type": "stream",
     "text": [
      "cidade_cliente\n",
      "São Paulo         12\n",
      "Belo Horizonte     5\n",
      "Porto Alegre       5\n",
      "Name: quantidade, dtype: int64\n"
     ]
    }
   ],
   "source": [
    "#Volume de venda por cidade\n",
    "vol_vendas_cidade = df.groupby('cidade_cliente')['quantidade'].sum().sort_values(ascending=False)\n",
    "print(vol_vendas_cidade.head(3))"
   ]
  },
  {
   "cell_type": "code",
   "execution_count": null,
   "id": "6401c42c",
   "metadata": {},
   "outputs": [
    {
     "name": "stdout",
     "output_type": "stream",
     "text": [
      "6\n"
     ]
    }
   ],
   "source": [
    "#Clientes unicos\n",
    "clt_unicos = df['id_cliente'].nunique()\n",
    "print(clt_unicos)"
   ]
  },
  {
   "cell_type": "code",
   "execution_count": null,
   "id": "6eb68eed",
   "metadata": {},
   "outputs": [
    {
     "name": "stdout",
     "output_type": "stream",
     "text": [
      "id_cliente\n",
      "C789    509.7\n",
      "C879    401.2\n",
      "C543    302.0\n",
      "Name: preco_total, dtype: float64\n"
     ]
    }
   ],
   "source": [
    "#Clientes com maior faturamento\n",
    "clt_fat = df.groupby('id_cliente')['preco_total'].sum().sort_values(ascending=False)\n",
    "print(clt_fat.head(3))"
   ]
  },
  {
   "cell_type": "code",
   "execution_count": null,
   "id": "a4807043",
   "metadata": {},
   "outputs": [
    {
     "data": {
      "text/html": [
       "<div>\n",
       "<style scoped>\n",
       "    .dataframe tbody tr th:only-of-type {\n",
       "        vertical-align: middle;\n",
       "    }\n",
       "\n",
       "    .dataframe tbody tr th {\n",
       "        vertical-align: top;\n",
       "    }\n",
       "\n",
       "    .dataframe thead th {\n",
       "        text-align: right;\n",
       "    }\n",
       "</style>\n",
       "<table border=\"1\" class=\"dataframe\">\n",
       "  <thead>\n",
       "    <tr style=\"text-align: right;\">\n",
       "      <th></th>\n",
       "      <th>id_pedido</th>\n",
       "      <th>data_pedido</th>\n",
       "      <th>id_cliente</th>\n",
       "      <th>genero_livro</th>\n",
       "      <th>titulo_livro</th>\n",
       "      <th>autor</th>\n",
       "      <th>preco_unitario</th>\n",
       "      <th>quantidade</th>\n",
       "      <th>cidade_cliente</th>\n",
       "      <th>estado_cliente</th>\n",
       "      <th>preco_total</th>\n",
       "      <th>mes_ano</th>\n",
       "    </tr>\n",
       "  </thead>\n",
       "  <tbody>\n",
       "    <tr>\n",
       "      <th>0</th>\n",
       "      <td>1001</td>\n",
       "      <td>2024-01-15</td>\n",
       "      <td>C879</td>\n",
       "      <td>Ficção Científica</td>\n",
       "      <td>Duna</td>\n",
       "      <td>Frank Herbert</td>\n",
       "      <td>55.9</td>\n",
       "      <td>2</td>\n",
       "      <td>São Paulo</td>\n",
       "      <td>SP</td>\n",
       "      <td>111.8</td>\n",
       "      <td>2024-01</td>\n",
       "    </tr>\n",
       "    <tr>\n",
       "      <th>1</th>\n",
       "      <td>1002</td>\n",
       "      <td>2024-01-16</td>\n",
       "      <td>C123</td>\n",
       "      <td>Desenvolvimento Pessoal</td>\n",
       "      <td>O Poder do Hábito</td>\n",
       "      <td>Charles Duhigg</td>\n",
       "      <td>42.5</td>\n",
       "      <td>1</td>\n",
       "      <td>Rio de Janeiro</td>\n",
       "      <td>RJ</td>\n",
       "      <td>42.5</td>\n",
       "      <td>2024-01</td>\n",
       "    </tr>\n",
       "    <tr>\n",
       "      <th>2</th>\n",
       "      <td>1003</td>\n",
       "      <td>2024-01-18</td>\n",
       "      <td>C543</td>\n",
       "      <td>Não-Ficção</td>\n",
       "      <td>Sapiens: Uma Breve História da Humanidade</td>\n",
       "      <td>Yuval Noah Harari</td>\n",
       "      <td>61.0</td>\n",
       "      <td>1</td>\n",
       "      <td>Belo Horizonte</td>\n",
       "      <td>MG</td>\n",
       "      <td>61.0</td>\n",
       "      <td>2024-01</td>\n",
       "    </tr>\n",
       "    <tr>\n",
       "      <th>3</th>\n",
       "      <td>1004</td>\n",
       "      <td>2024-01-20</td>\n",
       "      <td>C879</td>\n",
       "      <td>Ficção Científica</td>\n",
       "      <td>O Guia do Mochileiro das Galáxias</td>\n",
       "      <td>Douglas Adams</td>\n",
       "      <td>38.0</td>\n",
       "      <td>3</td>\n",
       "      <td>São Paulo</td>\n",
       "      <td>SP</td>\n",
       "      <td>114.0</td>\n",
       "      <td>2024-01</td>\n",
       "    </tr>\n",
       "    <tr>\n",
       "      <th>4</th>\n",
       "      <td>1005</td>\n",
       "      <td>2024-02-05</td>\n",
       "      <td>C321</td>\n",
       "      <td>Fantasia</td>\n",
       "      <td>O Senhor dos Anéis</td>\n",
       "      <td>J.R.R. Tolkien</td>\n",
       "      <td>75.0</td>\n",
       "      <td>1</td>\n",
       "      <td>Porto Alegre</td>\n",
       "      <td>RS</td>\n",
       "      <td>75.0</td>\n",
       "      <td>2024-02</td>\n",
       "    </tr>\n",
       "  </tbody>\n",
       "</table>\n",
       "</div>"
      ],
      "text/plain": [
       "   id_pedido data_pedido id_cliente             genero_livro  \\\n",
       "0       1001  2024-01-15       C879        Ficção Científica   \n",
       "1       1002  2024-01-16       C123  Desenvolvimento Pessoal   \n",
       "2       1003  2024-01-18       C543               Não-Ficção   \n",
       "3       1004  2024-01-20       C879        Ficção Científica   \n",
       "4       1005  2024-02-05       C321                 Fantasia   \n",
       "\n",
       "                                titulo_livro              autor  \\\n",
       "0                                       Duna      Frank Herbert   \n",
       "1                          O Poder do Hábito     Charles Duhigg   \n",
       "2  Sapiens: Uma Breve História da Humanidade  Yuval Noah Harari   \n",
       "3          O Guia do Mochileiro das Galáxias      Douglas Adams   \n",
       "4                         O Senhor dos Anéis     J.R.R. Tolkien   \n",
       "\n",
       "   preco_unitario  quantidade  cidade_cliente estado_cliente  preco_total  \\\n",
       "0            55.9           2       São Paulo             SP        111.8   \n",
       "1            42.5           1  Rio de Janeiro             RJ         42.5   \n",
       "2            61.0           1  Belo Horizonte             MG         61.0   \n",
       "3            38.0           3       São Paulo             SP        114.0   \n",
       "4            75.0           1    Porto Alegre             RS         75.0   \n",
       "\n",
       "   mes_ano  \n",
       "0  2024-01  \n",
       "1  2024-01  \n",
       "2  2024-01  \n",
       "3  2024-01  \n",
       "4  2024-02  "
      ]
     },
     "execution_count": 76,
     "metadata": {},
     "output_type": "execute_result"
    }
   ],
   "source": [
    "\n",
    "#Criar coluna mes/ano a partir da coluna \"data_pedido\"\n",
    "df['data_pedido'] = pd.to_datetime(df['data_pedido'])\n",
    "df['mes_ano'] = df['data_pedido'].dt.to_period('M')\n",
    "df.head(5)\n"
   ]
  },
  {
   "cell_type": "code",
   "execution_count": null,
   "id": "308f6a9f",
   "metadata": {},
   "outputs": [
    {
     "data": {
      "text/plain": [
       "<Axes: title={'center': 'Evolução do Faturamento Mensal'}, xlabel='Mês/Ano', ylabel='Faturamento em R$'>"
      ]
     },
     "execution_count": 82,
     "metadata": {},
     "output_type": "execute_result"
    },
    {
     "data": {
      "image/png": "[encoded data removed]",
      "text/plain": [
       "<Figure size 640x480 with 1 Axes>"
      ]
     },
     "metadata": {},
     "output_type": "display_data"
    }
   ],
   "source": [
    "evol_mes_ano = df.groupby('mes_ano')['preco_total'].sum()\n",
    "evol_mes_ano.plot(kind='line', title='Evolução do Faturamento Mensal', xlabel='Mês/Ano', ylabel='Faturamento em R$')"
   ]
  },
  {
   "cell_type": "code",
   "execution_count": null,
   "id": "c190f837",
   "metadata": {},
   "outputs": [
    {
     "name": "stdout",
     "output_type": "stream",
     "text": [
      "titulo_livro\n",
      "Duna                                 3\n",
      "O Guia do Mochileiro das Galáxias    3\n",
      "O Hobbit                             3\n",
      "Name: quantidade, dtype: int64\n"
     ]
    }
   ],
   "source": [
    "#Livros mais vendidos em quantidade\n",
    "livros_vendidos = df.groupby('titulo_livro')['quantidade'].sum().sort_values(ascending=False)\n",
    "print(livros_vendidos.head(3))"
   ]
  },
  {
   "cell_type": "code",
   "execution_count": null,
   "id": "e6798437",
   "metadata": {},
   "outputs": [
    {
     "name": "stdout",
     "output_type": "stream",
     "text": [
      "autor\n",
      "Yuval Noah Harari    5\n",
      "J.R.R. Tolkien       4\n",
      "Douglas Adams        3\n",
      "Name: quantidade, dtype: int64\n"
     ]
    }
   ],
   "source": [
    "autor_mais_vendido = df.groupby('autor')['quantidade'].sum().sort_values(ascending=False)\n",
    "print(autor_mais_vendido.head(3))"
   ]
  }
 ],
 "metadata": {
  "kernelspec": {
   "display_name": "Python 3",
   "language": "python",
   "name": "python3"
  },
  "language_info": {
   "codemirror_mode": {
    "name": "ipython",
    "version": 3
   },
   "file_extension": ".py",
   "mimetype": "text/x-python",
   "name": "python",
   "nbconvert_exporter": "python",
   "pygments_lexer": "ipython3",
   "version": "3.12.10"
  }
 },
 "nbformat": 4,
 "nbformat_minor": 5
}
